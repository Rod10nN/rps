{
  "cells": [
    {
      "cell_type": "markdown",
      "metadata": {
        "id": "view-in-github",
        "colab_type": "text"
      },
      "source": [
        "<a href=\"https://colab.research.google.com/github/Rod10nN/rps/blob/master/dz3.ipynb\" target=\"_parent\"><img src=\"https://colab.research.google.com/assets/colab-badge.svg\" alt=\"Open In Colab\"/></a>"
      ]
    },
    {
      "cell_type": "code",
      "source": [
        "!pip install -q -U kaggle_environments"
      ],
      "metadata": {
        "colab": {
          "base_uri": "https://localhost:8080/"
        },
        "id": "50rWdVxj8sA2",
        "outputId": "96172116-dc34-46dc-f43e-36ccb0a04504"
      },
      "execution_count": 1,
      "outputs": [
        {
          "output_type": "stream",
          "name": "stdout",
          "text": [
            "  Preparing metadata (setup.py) ... \u001b[?25l\u001b[?25hdone\n",
            "\u001b[2K   \u001b[90m━━━━━━━━━━━━━━━━━━━━━━━━━━━━━━━━━━━━━━━━\u001b[0m \u001b[32m1.4/1.4 MB\u001b[0m \u001b[31m15.4 MB/s\u001b[0m eta \u001b[36m0:00:00\u001b[0m\n",
            "\u001b[2K   \u001b[90m━━━━━━━━━━━━━━━━━━━━━━━━━━━━━━━━━━━━━━━━\u001b[0m \u001b[32m953.8/953.8 kB\u001b[0m \u001b[31m26.6 MB/s\u001b[0m eta \u001b[36m0:00:00\u001b[0m\n",
            "\u001b[2K   \u001b[90m━━━━━━━━━━━━━━━━━━━━━━━━━━━━━━━━━━━━━━━━\u001b[0m \u001b[32m840.2/840.2 kB\u001b[0m \u001b[31m12.7 MB/s\u001b[0m eta \u001b[36m0:00:00\u001b[0m\n",
            "\u001b[2K   \u001b[90m━━━━━━━━━━━━━━━━━━━━━━━━━━━━━━━━━━━━━━━━\u001b[0m \u001b[32m178.7/178.7 kB\u001b[0m \u001b[31m8.4 MB/s\u001b[0m eta \u001b[36m0:00:00\u001b[0m\n",
            "\u001b[?25h  Building wheel for Chessnut (setup.py) ... \u001b[?25l\u001b[?25hdone\n"
          ]
        }
      ]
    },
    {
      "cell_type": "code",
      "execution_count": 2,
      "metadata": {
        "colab": {
          "base_uri": "https://localhost:8080/"
        },
        "id": "WfnBq1ZZ8oon",
        "outputId": "8a0054c0-5f40-43d4-872e-4dea0dcf586f"
      },
      "outputs": [
        {
          "output_type": "stream",
          "name": "stderr",
          "text": [
            "/usr/local/lib/python3.10/dist-packages/pygame/pkgdata.py:25: DeprecationWarning: pkg_resources is deprecated as an API. See https://setuptools.pypa.io/en/latest/pkg_resources.html\n",
            "  from pkg_resources import resource_stream, resource_exists\n",
            "/usr/local/lib/python3.10/dist-packages/pkg_resources/__init__.py:3154: DeprecationWarning: Deprecated call to `pkg_resources.declare_namespace('google')`.\n",
            "Implementing implicit namespace packages (as specified in PEP 420) is preferred to `pkg_resources.declare_namespace`. See https://setuptools.pypa.io/en/latest/references/keywords.html#keyword-namespace-packages\n",
            "  declare_namespace(pkg)\n",
            "/usr/local/lib/python3.10/dist-packages/pkg_resources/__init__.py:3154: DeprecationWarning: Deprecated call to `pkg_resources.declare_namespace('google.cloud')`.\n",
            "Implementing implicit namespace packages (as specified in PEP 420) is preferred to `pkg_resources.declare_namespace`. See https://setuptools.pypa.io/en/latest/references/keywords.html#keyword-namespace-packages\n",
            "  declare_namespace(pkg)\n",
            "/usr/local/lib/python3.10/dist-packages/pkg_resources/__init__.py:3154: DeprecationWarning: Deprecated call to `pkg_resources.declare_namespace('sphinxcontrib')`.\n",
            "Implementing implicit namespace packages (as specified in PEP 420) is preferred to `pkg_resources.declare_namespace`. See https://setuptools.pypa.io/en/latest/references/keywords.html#keyword-namespace-packages\n",
            "  declare_namespace(pkg)\n"
          ]
        },
        {
          "output_type": "stream",
          "name": "stdout",
          "text": [
            "Loading environment lux_ai_s3 failed: No module named 'gymnax'\n"
          ]
        }
      ],
      "source": [
        "import numpy as np\n",
        "import pandas as pd\n",
        "import random\n",
        "import random\n",
        "import matplotlib.pyplot as plt\n",
        "import seaborn as sns\n",
        "\n",
        "from kaggle_environments import make, evaluate"
      ]
    },
    {
      "cell_type": "markdown",
      "metadata": {
        "id": "0qbbU_Jr8oop"
      },
      "source": [
        "### 1. Агент \"камень\": всегда выбирает \"камень\"."
      ]
    },
    {
      "cell_type": "code",
      "execution_count": 3,
      "metadata": {
        "colab": {
          "base_uri": "https://localhost:8080/"
        },
        "id": "phpJjFrx8ooq",
        "outputId": "ff68126e-608b-4ddd-be55-7ce6fcb6bc91"
      },
      "outputs": [
        {
          "output_type": "stream",
          "name": "stdout",
          "text": [
            "Writing agent_rock.py\n"
          ]
        }
      ],
      "source": [
        "%%writefile agent_rock.py\n",
        "\n",
        "def agent_rock(observation, configuration):\n",
        "    return 0 # 0 - камень"
      ]
    },
    {
      "cell_type": "markdown",
      "metadata": {
        "id": "VR-zZFfT8oor"
      },
      "source": [
        "### 2. Агент \"бумага\": всегда выбирает \"бумагу\"."
      ]
    },
    {
      "cell_type": "code",
      "execution_count": 4,
      "metadata": {
        "colab": {
          "base_uri": "https://localhost:8080/"
        },
        "id": "zWXNNrIB8oor",
        "outputId": "ca18762f-4a03-42c2-c9c9-a485f6423b1b"
      },
      "outputs": [
        {
          "output_type": "stream",
          "name": "stdout",
          "text": [
            "Writing agent_paper.py\n"
          ]
        }
      ],
      "source": [
        "%%writefile agent_paper.py\n",
        "\n",
        "def agent_paper(observation, configuration):\n",
        "    return 1  # 1 - бумага\n"
      ]
    },
    {
      "cell_type": "markdown",
      "metadata": {
        "id": "vVRoEaUD8oos"
      },
      "source": [
        "### 3. Агент \"ножницы\": всегда выбирает \"ножницы\"."
      ]
    },
    {
      "cell_type": "code",
      "execution_count": 5,
      "metadata": {
        "colab": {
          "base_uri": "https://localhost:8080/"
        },
        "id": "TnbSbXXB8oot",
        "outputId": "80d68e05-6991-4f77-dcde-94c259e8edde"
      },
      "outputs": [
        {
          "output_type": "stream",
          "name": "stdout",
          "text": [
            "Writing agent_scissors.py\n"
          ]
        }
      ],
      "source": [
        "%%writefile agent_scissors.py\n",
        "\n",
        "def agent_scissors(observation, configuration):\n",
        "    return 2 # 2 - ножницы"
      ]
    },
    {
      "cell_type": "markdown",
      "metadata": {
        "id": "UFPsDhnK8oot"
      },
      "source": [
        "### 4. Случайный агент: выбирает случайное действие."
      ]
    },
    {
      "cell_type": "code",
      "execution_count": 6,
      "metadata": {
        "colab": {
          "base_uri": "https://localhost:8080/"
        },
        "id": "zKhqcPVG8oou",
        "outputId": "3ce97ccf-c42b-4972-86fc-e14efde081de"
      },
      "outputs": [
        {
          "output_type": "stream",
          "name": "stdout",
          "text": [
            "Writing agent_random.py\n"
          ]
        }
      ],
      "source": [
        "%%writefile agent_random.py\n",
        "\n",
        "def agent_random(observation, configuration):\n",
        "    return random.randrange(0, configuration.signs)\n"
      ]
    },
    {
      "cell_type": "markdown",
      "metadata": {
        "id": "vULM8y7n8oou"
      },
      "source": [
        "### 5. Копирующий агент: копирует последнее действие противника."
      ]
    },
    {
      "cell_type": "code",
      "execution_count": 7,
      "metadata": {
        "colab": {
          "base_uri": "https://localhost:8080/"
        },
        "id": "oNbPRKo78oov",
        "outputId": "53f87946-c684-4272-a739-0154060df90f"
      },
      "outputs": [
        {
          "output_type": "stream",
          "name": "stdout",
          "text": [
            "Writing copy_opponent.py\n"
          ]
        }
      ],
      "source": [
        "%%writefile copy_opponent.py\n",
        "\n",
        "def copy_opponent(observation, configuration):\n",
        "    #in case we have information about opponent last move\n",
        "    if observation.step > 0:\n",
        "        return observation.lastOpponentAction\n",
        "    #initial step\n",
        "    else:\n",
        "        return random.randrange(0, configuration.signs)"
      ]
    },
    {
      "cell_type": "markdown",
      "metadata": {
        "id": "c5gPLV6O8oov"
      },
      "source": [
        "### 6. Агент \"чередующийся\": чередует между \"камень\", \"ножницы\" и \"бумага\"."
      ]
    },
    {
      "cell_type": "code",
      "execution_count": 8,
      "metadata": {
        "colab": {
          "base_uri": "https://localhost:8080/"
        },
        "id": "16QJf9It8oow",
        "outputId": "e40a653e-ab87-4540-9731-28c71480ac4f"
      },
      "outputs": [
        {
          "output_type": "stream",
          "name": "stdout",
          "text": [
            "Writing agent_alternating.py\n"
          ]
        }
      ],
      "source": [
        "%%writefile agent_alternating.py\n",
        "\n",
        "def agent_alternating(observation, configuration):\n",
        "    return observation.step % 3  # Чередуем: 0, 1, 2 (камень, бумага, ножницы)"
      ]
    },
    {
      "cell_type": "markdown",
      "metadata": {
        "id": "1jAaR_sa8oow"
      },
      "source": [
        "### 7. Агент \"победитель\": всегда повторяет действие победителя последнего раунда."
      ]
    },
    {
      "cell_type": "code",
      "execution_count": 9,
      "metadata": {
        "colab": {
          "base_uri": "https://localhost:8080/"
        },
        "id": "PFWlOxFh8oow",
        "outputId": "b4519df1-ec87-45c4-cc90-8a937029e9f1"
      },
      "outputs": [
        {
          "output_type": "stream",
          "name": "stdout",
          "text": [
            "Writing agent_winner.py\n"
          ]
        }
      ],
      "source": [
        "%%writefile agent_winner.py\n",
        "\n",
        "\n",
        "def agent_winner(observation, configuration):\n",
        "    if observation.step == 0:\n",
        "        return random.randrange(0, configuration.signs)\n",
        "    return observation.lastOpponentAction if observation.result == 1 else observation.lastOpponentAction  # повторяет победившее действие\n"
      ]
    },
    {
      "cell_type": "markdown",
      "metadata": {
        "id": "i97ZpI4W8oox"
      },
      "source": [
        "### 8. Агент \"агрессивный ответ\": выбирает действие, выигрывающее против последнего действия противника."
      ]
    },
    {
      "cell_type": "code",
      "execution_count": 10,
      "metadata": {
        "colab": {
          "base_uri": "https://localhost:8080/"
        },
        "id": "JsSE3TDY8oox",
        "outputId": "08691b4d-9eef-45b6-8d12-ac7d591abdbb"
      },
      "outputs": [
        {
          "output_type": "stream",
          "name": "stdout",
          "text": [
            "Writing agent_aggressive_counter.py\n"
          ]
        }
      ],
      "source": [
        "%%writefile agent_aggressive_counter.py\n",
        "\n",
        "def agent_aggressive_counter(observation, configuration):\n",
        "    if observation.step == 0:\n",
        "        return random.randrange(0, configuration.signs)\n",
        "    # выбирает действие, которое побеждает противника\n",
        "    return (observation.lastOpponentAction + 1) % 3  # против \"камня\" - \"бумага\", против \"бумаги\" - \"ножницы\", против \"ножниц\" - \"камень\"\n"
      ]
    },
    {
      "cell_type": "markdown",
      "metadata": {
        "id": "RDlt4osd8oox"
      },
      "source": [
        "### 9. Агент \"обратный\": выбирает действие, проигрывающее против последнего действия противника"
      ]
    },
    {
      "cell_type": "code",
      "execution_count": 11,
      "metadata": {
        "colab": {
          "base_uri": "https://localhost:8080/"
        },
        "id": "ANh6q0cz8oox",
        "outputId": "d960f704-644c-40c0-bc9a-070ba4b4d1a8"
      },
      "outputs": [
        {
          "output_type": "stream",
          "name": "stdout",
          "text": [
            "Writing agent_reverse.py\n"
          ]
        }
      ],
      "source": [
        "%%writefile agent_reverse.py\n",
        "\n",
        "def agent_reverse(observation, configuration):\n",
        "    if observation.step == 0:\n",
        "        return random.randrange(0, configuration.signs)\n",
        "    # выбирает действие, которое проигрывает противнику\n",
        "    return (observation.lastOpponentAction + 2) % 3  # против \"камня\" - \"ножницы\", против \"бумаги\" - \"камень\", против \"ножниц\" - \"бумага\"\n"
      ]
    },
    {
      "cell_type": "markdown",
      "source": [
        "### Соревнование между агентами"
      ],
      "metadata": {
        "id": "3uJ1rxK_9CPD"
      }
    },
    {
      "cell_type": "code",
      "execution_count": 14,
      "metadata": {
        "colab": {
          "base_uri": "https://localhost:8080/"
        },
        "id": "JLdNHWbp8ooy",
        "outputId": "f8211314-b272-4ddb-d16e-9db9e6319259"
      },
      "outputs": [
        {
          "output_type": "stream",
          "name": "stderr",
          "text": [
            "/usr/local/lib/python3.10/dist-packages/ipykernel/ipkernel.py:283: DeprecationWarning: `should_run_async` will not call `transform_cell` automatically in the future. Please pass the result to `transformed_cell` argument and any exception that happen during thetransform in `preprocessing_exc_tuple` in IPython 7.17 and above.\n",
            "  and should_run_async(code)\n"
          ]
        },
        {
          "output_type": "stream",
          "name": "stdout",
          "text": [
            "agent_rock.py  [[-99.0, 99.0]] agent_paper.py\n",
            "agent_rock.py  [[99.0, -99.0]] agent_scissors.py\n",
            "agent_rock.py  [[1, None]] agent_random.py\n",
            "agent_rock.py  [[1, None]] copy_opponent.py\n",
            "agent_rock.py  [[0, 0]] agent_alternating.py\n",
            "agent_rock.py  [[1, None]] agent_winner.py\n",
            "agent_rock.py  [[1, None]] agent_aggressive_counter.py\n",
            "agent_rock.py  [[1, None]] agent_reverse.py\n",
            "agent_paper.py  [[-99.0, 99.0]] agent_scissors.py\n",
            "agent_paper.py  [[1, None]] agent_random.py\n",
            "agent_paper.py  [[1, None]] copy_opponent.py\n",
            "agent_paper.py  [[0, 0]] agent_alternating.py\n",
            "agent_paper.py  [[1, None]] agent_winner.py\n",
            "agent_paper.py  [[1, None]] agent_aggressive_counter.py\n",
            "agent_paper.py  [[1, None]] agent_reverse.py\n",
            "agent_scissors.py  [[1, None]] agent_random.py\n",
            "agent_scissors.py  [[1, None]] copy_opponent.py\n",
            "agent_scissors.py  [[0, 0]] agent_alternating.py\n",
            "agent_scissors.py  [[1, None]] agent_winner.py\n",
            "agent_scissors.py  [[1, None]] agent_aggressive_counter.py\n",
            "agent_scissors.py  [[1, None]] agent_reverse.py\n",
            "agent_random.py  [[None, None]] copy_opponent.py\n",
            "agent_random.py  [[None, 1]] agent_alternating.py\n",
            "agent_random.py  [[None, None]] agent_winner.py\n",
            "agent_random.py  [[None, None]] agent_aggressive_counter.py\n",
            "agent_random.py  [[None, None]] agent_reverse.py\n",
            "copy_opponent.py  [[None, 1]] agent_alternating.py\n",
            "copy_opponent.py  [[None, None]] agent_winner.py\n",
            "copy_opponent.py  [[None, None]] agent_aggressive_counter.py\n",
            "copy_opponent.py  [[None, None]] agent_reverse.py\n",
            "agent_alternating.py  [[1, None]] agent_winner.py\n",
            "agent_alternating.py  [[1, None]] agent_aggressive_counter.py\n",
            "agent_alternating.py  [[1, None]] agent_reverse.py\n",
            "agent_winner.py  [[None, None]] agent_aggressive_counter.py\n",
            "agent_winner.py  [[None, None]] agent_reverse.py\n",
            "agent_aggressive_counter.py  [[None, None]] agent_reverse.py\n"
          ]
        }
      ],
      "source": [
        "agents = [\n",
        "    \"agent_rock.py\",\n",
        "    \"agent_paper.py\",\n",
        "    \"agent_scissors.py\",\n",
        "    \"agent_random.py\",\n",
        "    \"copy_opponent.py\",\n",
        "    \"agent_alternating.py\",\n",
        "    \"agent_winner.py\",\n",
        "    \"agent_aggressive_counter.py\",\n",
        "    \"agent_reverse.py\",\n",
        "]\n",
        "for i in range(len(agents)): # все агенты должны сыграть друг с другом\n",
        "    for j in range(i + 1, len(agents)):\n",
        "        agent1 = agents[i]\n",
        "        agent2 = agents[j]\n",
        "        print(f'{agent1}  {evaluate(\"rps\",[agent1, agent2],configuration={\"episodeSteps\": 100})} {agent2}')\n"
      ]
    },
    {
      "cell_type": "markdown",
      "metadata": {
        "id": "IJmZZ1MP8ooy"
      },
      "source": [
        "Больще всего побед одержала стратегия выбирать только камень *agent_rock.py* с 6 победами"
      ]
    }
  ],
  "metadata": {
    "kernelspec": {
      "display_name": "Python 3",
      "language": "python",
      "name": "python3"
    },
    "language_info": {
      "codemirror_mode": {
        "name": "ipython",
        "version": 3
      },
      "file_extension": ".py",
      "mimetype": "text/x-python",
      "name": "python",
      "nbconvert_exporter": "python",
      "pygments_lexer": "ipython3",
      "version": "3.9.10"
    },
    "colab": {
      "provenance": [],
      "include_colab_link": true
    }
  },
  "nbformat": 4,
  "nbformat_minor": 0
}